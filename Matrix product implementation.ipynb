{
 "cells": [
  {
   "cell_type": "markdown",
   "id": "cc812949",
   "metadata": {},
   "source": [
    "### Problem 1: Matrix Product Calculation by Hand"
   ]
  },
  {
   "cell_type": "markdown",
   "id": "7ba28fdd",
   "metadata": {},
   "source": [
    "Given matrices: \n",
    "\n",
    "A = \n",
    "\n",
    "       [-1  2  3]               \n",
    "       [4  -5  6]               \n",
    "       [7   8 -9]              \n",
    "       \n",
    "B=       \n",
    "       \n",
    "       [0  2  1]\n",
    "       [0  2 -8]\n",
    "       [2  9 -1]\n",
    "       \n",
    "To find the product C = A * B, we need to calculate each element c_ij of the resulting matrix C \n",
    "       "
   ]
  },
  {
   "cell_type": "markdown",
   "id": "d0de64cc",
   "metadata": {},
   "source": [
    "#### Calculation of \\( C \\):\n",
    "\n",
    "- For \\( c_{ii} ):\n",
    "\\[ c_{ii} = [ 0 + 0 + 6 = 6 \\]\n",
    "\n",
    "- For \\( c_{ij} \\):\n",
    "\\[ c_{ij} = [-2 + 4 + 27 = 29 \\]\n",
    "\n",
    "- For \\( c_{ik} \\):\n",
    "\\[ c_{ik} = [-1 - 16 - 3 = -20 \\]\n",
    "\n",
    "- For \\( c_{ji} \\):\n",
    "\\[ c_{ji} [0 + 0 + 12 = 12 \\]\n",
    "\n",
    "- For \\( c_{jj} \\):\n",
    "\\[ c_{jj} [8 - 10 + 54 = 52 \\]\n",
    "\n",
    "- For \\( c_{jk} \\):\n",
    "\\[ c_{jk} [4 + 40 - 6 = 38 \\]\n",
    "\n",
    "- For \\( c_{ki} \\):\n",
    "\\[ c_{ki} [0 + 0 - 18 = -18 \\]\n",
    "\n",
    "- For \\( c_{kj} \\):\n",
    "\\[ c_{kj} [14 + 16 - 81 = -51 \\]\n",
    "\n",
    "- For \\( c_{kk} \\):\n",
    "\\[ c_{kk} [7 - 64 + 9 = -48 \\]"
   ]
  },
  {
   "cell_type": "markdown",
   "id": "b4069ddb",
   "metadata": {},
   "source": [
    "So, the resulting matrix \\( C \\) is:\n",
    "\\[ C = \\begin{pmatrix} 0 + 0 + 6 & -2 + 4 + 27 & -1-16-3 \\\\ 0+0+12 & 8-10+54 & 4+40-6 \\\\ 0+0-18 & 14+16-81 & 7-64+9 \\end{pmatrix} \\]"
   ]
  },
  {
   "cell_type": "markdown",
   "id": "c0a424ac",
   "metadata": {},
   "source": [
    "\n",
    "\n",
    "C = \\begin{pmatrix} 6 & 29 & -20 \\\\ 12 & 52 & 38 \\\\ -18 & -51 & -48 \\end{pmatrix}\n"
   ]
  },
  {
   "cell_type": "markdown",
   "id": "8719407c",
   "metadata": {},
   "source": [
    "### Problem 2: Calculation by NumPy function"
   ]
  },
  {
   "cell_type": "code",
   "execution_count": 8,
   "id": "b88e8727",
   "metadata": {},
   "outputs": [
    {
     "data": {
      "text/plain": [
       "array([[  6,  29, -20],\n",
       "       [ 12,  52,  38],\n",
       "       [-18, -51, -48]])"
      ]
     },
     "execution_count": 8,
     "metadata": {},
     "output_type": "execute_result"
    }
   ],
   "source": [
    "import numpy as np\n",
    "\n",
    "a_ndarray = np.array([[-1, 2, 3], [4, -5, 6], [7, 8, -9]])\n",
    "b_ndarray = np.array([[0, 2, 1], [0, 2, -8], [2, 9, -1]])\n",
    "\n",
    "# Using np.matmul()\n",
    "c_ndarray_matmul = np.matmul(a_ndarray, b_ndarray)\n",
    "\n",
    "c_ndarray_matmul"
   ]
  },
  {
   "cell_type": "code",
   "execution_count": 9,
   "id": "15a6710b",
   "metadata": {},
   "outputs": [
    {
     "data": {
      "text/plain": [
       "array([[  6,  29, -20],\n",
       "       [ 12,  52,  38],\n",
       "       [-18, -51, -48]])"
      ]
     },
     "execution_count": 9,
     "metadata": {},
     "output_type": "execute_result"
    }
   ],
   "source": [
    "# Using np.dot()\n",
    "c_ndarray_dot = np.dot(a_ndarray, b_ndarray)\n",
    "\n",
    "c_ndarray_dot"
   ]
  },
  {
   "cell_type": "code",
   "execution_count": 10,
   "id": "af11661a",
   "metadata": {},
   "outputs": [
    {
     "data": {
      "text/plain": [
       "array([[  6,  29, -20],\n",
       "       [ 12,  52,  38],\n",
       "       [-18, -51, -48]])"
      ]
     },
     "execution_count": 10,
     "metadata": {},
     "output_type": "execute_result"
    }
   ],
   "source": [
    "# Using @ operator\n",
    "c_ndarray_at = a_ndarray @ b_ndarray\n",
    "\n",
    "c_ndarray_at\n"
   ]
  },
  {
   "cell_type": "markdown",
   "id": "51262ff7",
   "metadata": {},
   "source": [
    "### Problem 3: Implementation of Calculation of a Certain Element"
   ]
  },
  {
   "cell_type": "code",
   "execution_count": 2,
   "id": "41c17aeb",
   "metadata": {},
   "outputs": [
    {
     "data": {
      "text/plain": [
       "6"
      ]
     },
     "execution_count": 2,
     "metadata": {},
     "output_type": "execute_result"
    }
   ],
   "source": [
    "a = np.array([[-1, 2, 3], [4, -5, 6], [7, 8, -9]])\n",
    "b = np.array([[0, 2, 1], [0, 2, -8], [2, 9, -1]])\n",
    "\n",
    "def calculate_element(a, b, row, col):\n",
    "    element = 0\n",
    "    for k in range(len(a[0])):\n",
    "        element += a[row][k] * b[k][col]\n",
    "    return element\n",
    "\n",
    "calculate_element(a, b, 0, 0)\n"
   ]
  },
  {
   "cell_type": "markdown",
   "id": "f002c168",
   "metadata": {},
   "source": [
    "### Problem 4: Creating a Function that Performs Matrix Multiplication"
   ]
  },
  {
   "cell_type": "code",
   "execution_count": 3,
   "id": "d40fecac",
   "metadata": {},
   "outputs": [
    {
     "data": {
      "text/plain": [
       "array([[  6.,  29., -20.],\n",
       "       [ 12.,  52.,  38.],\n",
       "       [-18., -51., -48.]])"
      ]
     },
     "execution_count": 3,
     "metadata": {},
     "output_type": "execute_result"
    }
   ],
   "source": [
    "def matrix_multiplication(a, b):\n",
    "    rows_a, cols_a = a.shape\n",
    "    rows_b, cols_b = b.shape\n",
    "    if cols_a != rows_b:\n",
    "        raise ValueError(\"The number of columns in A must be equal to the number of rows in B\")\n",
    "    result = np.zeros((rows_a, cols_b))\n",
    "    for i in range(rows_a):\n",
    "        for j in range(cols_b):\n",
    "            result[i, j] = calculate_element(a, b, i, j)\n",
    "    return result\n",
    "\n",
    "matrix_multiplication(a, b)\n"
   ]
  },
  {
   "cell_type": "markdown",
   "id": "31bf0ef8",
   "metadata": {},
   "source": [
    "### Problem 5: Judge the Input Whose Calculation is Not Defined"
   ]
  },
  {
   "cell_type": "code",
   "execution_count": 4,
   "id": "b8db1397",
   "metadata": {},
   "outputs": [
    {
     "name": "stdout",
     "output_type": "stream",
     "text": [
      "Error: The number of columns in A must be equal to the number of rows in B\n"
     ]
    }
   ],
   "source": [
    "def matrix_multiplication_safe(a, b):\n",
    "    rows_a, cols_a = a.shape\n",
    "    rows_b, cols_b = b.shape\n",
    "    if cols_a != rows_b:\n",
    "        print(\"Error: The number of columns in A must be equal to the number of rows in B\")\n",
    "        return None\n",
    "    return matrix_multiplication(a, b)\n",
    "\n",
    "d = np.array([[-1, 2, 3], [4, -5, 6]])\n",
    "e = np.array([[-9, 8, 7], [6, -5, 4]])\n",
    "\n",
    "matrix_multiplication_safe(d, e)\n"
   ]
  },
  {
   "cell_type": "markdown",
   "id": "961d3bf2",
   "metadata": {},
   "source": [
    "### Problem 6: Transposition"
   ]
  },
  {
   "cell_type": "code",
   "execution_count": 5,
   "id": "81a6f92b",
   "metadata": {},
   "outputs": [
    {
     "data": {
      "text/plain": [
       "(array([[ 15, -48,  27],\n",
       "        [ -2, -74, -49],\n",
       "        [  3,  84,  69]]),\n",
       " array([[ 15,  -2,   3],\n",
       "        [-48, -74,  84],\n",
       "        [ 27, -49,  69]]))"
      ]
     },
     "execution_count": 5,
     "metadata": {},
     "output_type": "execute_result"
    }
   ],
   "source": [
    "a_T = a.T\n",
    "b_T = b.T\n",
    "\n",
    "result_T = np.matmul(a_T, b_T)\n",
    "result_T_T = result_T.T  # Transpose back to original form\n",
    "\n",
    "result_T, result_T_T\n"
   ]
  },
  {
   "cell_type": "code",
   "execution_count": null,
   "id": "4f300c68",
   "metadata": {},
   "outputs": [],
   "source": []
  }
 ],
 "metadata": {
  "kernelspec": {
   "display_name": "Python 3 (ipykernel)",
   "language": "python",
   "name": "python3"
  },
  "language_info": {
   "codemirror_mode": {
    "name": "ipython",
    "version": 3
   },
   "file_extension": ".py",
   "mimetype": "text/x-python",
   "name": "python",
   "nbconvert_exporter": "python",
   "pygments_lexer": "ipython3",
   "version": "3.11.7"
  }
 },
 "nbformat": 4,
 "nbformat_minor": 5
}
