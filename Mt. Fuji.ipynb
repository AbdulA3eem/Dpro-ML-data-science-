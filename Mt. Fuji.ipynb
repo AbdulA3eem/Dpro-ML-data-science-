{
 "cells": [
  {
   "cell_type": "code",
   "execution_count": 8,
   "id": "205530b4",
   "metadata": {
    "collapsed": true
   },
   "outputs": [
    {
     "name": "stdout",
     "output_type": "stream",
     "text": [
      "To exceed the height of Mt. Fuji (3776 meters), MIN fold is 26 times.\n"
     ]
    }
   ],
   "source": [
    "# problem 1\n",
    "\n",
    "def calculate_folds_to_exceed_height(target_height, initial_thickness=0.00008):\n",
    "    folds = 0\n",
    "    thickness = initial_thickness\n",
    "\n",
    "    while thickness < target_height:\n",
    "        thickness *= 2\n",
    "        folds += 1\n",
    "\n",
    "    return folds\n",
    "\n",
    "# Height of Mt. Fuji in meters\n",
    "fuji_height = 3776\n",
    "\n",
    "# Calculate the minimum number of folds\n",
    "min_folds = calculate_folds_to_exceed_height(fuji_height)\n",
    "\n",
    "print('To exceed the height of Mt. Fuji (3776 meters), MIN folds is', min_folds, 'times.')"
   ]
  },
  {
   "cell_type": "code",
   "execution_count": 9,
   "id": "41c766ff",
   "metadata": {
    "collapsed": true
   },
   "outputs": [
    {
     "name": "stdout",
     "output_type": "stream",
     "text": [
      "To reach Proxima Centauri, the nearest non-sun star, MIN folds is 69 times.\n"
     ]
    }
   ],
   "source": [
    "# problem 2\n",
    "def calculate_folds_to_reach_height(target_height, initial_thickness=0.00008):\n",
    "    folds = 0\n",
    "    thickness = initial_thickness\n",
    "\n",
    "    while thickness < target_height:\n",
    "        thickness *= 2\n",
    "        folds += 1\n",
    "\n",
    "    return folds\n",
    "\n",
    "# Distance to Proxima Centauri in meters\n",
    "proxima_centauri_distance = 4.0175e16  # 4.0175 * 10^16\n",
    "\n",
    "# To Calculate the minimum number of folds to reach Proxima Centauri\n",
    "min_folds_to_proxima_centauri = calculate_folds_to_exceed_height(proxima_centauri_distance)\n",
    "\n",
    "print('To reach Proxima Centauri, the nearest non-sun star, MIN folds is',min_folds_to_proxima_centauri, 'times.')\n"
   ]
  },
  {
   "cell_type": "code",
   "execution_count": 32,
   "id": "c1dc818b",
   "metadata": {
    "collapsed": true
   },
   "outputs": [
    {
     "name": "stdout",
     "output_type": "stream",
     "text": [
      "Length of paper needed to reach the Moon: 3240919444170780672.00 KM\n",
      "Length of paper needed to reach the height of Mt. Fuji: 3240919444170780672.00 KM\n",
      "Length of paper needed to reach Proxima Centauri: 3.24e+18 Km\n"
     ]
    }
   ],
   "source": [
    "# problem 3\n",
    "import math\n",
    "\n",
    "def calculate_paper_length(n):\n",
    "    if n <= 0:\n",
    "        return 0\n",
    "    length = (math.pi * 0.00000008) / 6 * (2.0**43 + 4.0) * (2.0**43 - 1)\n",
    "    return length\n",
    "\n",
    "# for moon length\n",
    "moon_distance = 384400 # in Km\n",
    "moon_paper_length = calculate_paper_length(moon_distance)\n",
    "print(f\"Length of paper needed to reach the Moon: {moon_paper_length:.2f} KM\")\n",
    "\n",
    "# for fuji_height length\n",
    "fuji_height = 3.776 # in Km\n",
    "fuji_paper_length = calculate_paper_length(fuji_height)\n",
    "print(f\"Length of paper needed to reach the height of Mt. Fuji: {fuji_paper_length:.2f} KM\")\n",
    "\n",
    "# for proxima_centauri length\n",
    "proxima_centauri_distance = 4.0175e16\n",
    "proxima_centauri_paper_length = calculate_paper_length(proxima_centauri_distance)\n",
    "print(f\"Length of paper needed to reach Proxima Centauri: {proxima_centauri_paper_length:.2e} Km\")\n",
    "\n"
   ]
  },
  {
   "cell_type": "code",
   "execution_count": null,
   "id": "42a8b9dc",
   "metadata": {},
   "outputs": [],
   "source": []
  }
 ],
 "metadata": {
  "kernelspec": {
   "display_name": "Python 3 (ipykernel)",
   "language": "python",
   "name": "python3"
  },
  "language_info": {
   "codemirror_mode": {
    "name": "ipython",
    "version": 3
   },
   "file_extension": ".py",
   "mimetype": "text/x-python",
   "name": "python",
   "nbconvert_exporter": "python",
   "pygments_lexer": "ipython3",
   "version": "3.11.3"
  }
 },
 "nbformat": 4,
 "nbformat_minor": 5
}
