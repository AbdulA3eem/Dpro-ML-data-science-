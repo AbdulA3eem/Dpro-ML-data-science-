{
 "cells": [
  {
   "cell_type": "code",
   "execution_count": 3,
   "id": "9663571c",
   "metadata": {
    "collapsed": true
   },
   "outputs": [
    {
     "name": "stdout",
     "output_type": "stream",
     "text": [
      "It will take approximately 24900.00 seconds, or 6.92 hours, 0.29 days to cover the solar system with buns.\n"
     ]
    }
   ],
   "source": [
    "# The chestnut bun problem\n",
    "\n",
    "def calculate_time_to_cover_solar_system(bun_volume, solar_system_volume, growth_rate):\n",
    "    time_seconds = 0\n",
    "    volume = bun_volume\n",
    "\n",
    "    while volume < solar_system_volume:\n",
    "        time_seconds += 300  # 5 minutes = 300 seconds\n",
    "        volume *= growth_rate\n",
    "\n",
    "    return time_seconds\n",
    "\n",
    "\n",
    "# Given Assumptins values\n",
    "bun_volume = 0.000339  # Estimated volume of one bun(with diameter of 6Cm) in cubic meters \n",
    "solar_system_volume_m3 = 2.82e21  # Estimated Solar system (using the sun and other planetary bodies) volume in cubic meters \n",
    "growth_rate = 2 # the volume doubles every 5 minutes\n",
    "\n",
    "# Calculating the time\n",
    "time_seconds = calculate_time_to_cover_solar_system(bun_volume, solar_system_volume_m3, growth_rate)\n",
    "\n",
    "# Converting time \n",
    "time_hours = time_seconds / 3600\n",
    "time_days = time_hours / 24\n",
    "\n",
    "print(f\"It will take approximately {time_seconds:.2f} seconds, or {time_hours:.2f} hours, {time_days:.2f} days to cover the solar system with buns.\")\n"
   ]
  },
  {
   "cell_type": "code",
   "execution_count": 7,
   "id": "6983848b",
   "metadata": {
    "collapsed": true
   },
   "outputs": [
    {
     "name": "stdout",
     "output_type": "stream",
     "text": [
      "It will take approximately 6900.00 seconds, or 1.92 hours to fill the space.\n"
     ]
    }
   ],
   "source": [
    "# generic problem\n",
    "\n",
    "def calculate_time_to_fill(initial_ball_volume, growth_rate, target_volume):\n",
    "    time_seconds = 0\n",
    "    volume = initial_ball_volume\n",
    "\n",
    "    while volume < target_volume:\n",
    "        time_seconds += 300  # 5 minutes = 300 seconds\n",
    "        volume *= growth_rate\n",
    "\n",
    "    return time_seconds\n",
    "\n",
    "# Given values\n",
    "initial_ball_volume = 0.006  # Initial volume in cubic meters is the volume of a size 5 soccer ball\n",
    "growth_rate = 2  # The ball volume doubles every 5 minutes\n",
    "target_volume = 50000  # The target volume to fill (e.g., Tokyo Dome)\n",
    "\n",
    "# Calculateing the time\n",
    "time_seconds = calculate_time_to_fill(initial_ball_volume, growth_rate, target_volume)\n",
    "\n",
    "# Convert time to hours and days for a more understandable estimate\n",
    "time_hours = time_seconds / 3600\n",
    "time_days = time_hours / 24\n",
    "\n",
    "print(f\"It will take approximately {time_seconds:.2f} seconds, or {time_hours:.2f} hours to fill the space.\")\n"
   ]
  }
 ],
 "metadata": {
  "kernelspec": {
   "display_name": "Python 3 (ipykernel)",
   "language": "python",
   "name": "python3"
  },
  "language_info": {
   "codemirror_mode": {
    "name": "ipython",
    "version": 3
   },
   "file_extension": ".py",
   "mimetype": "text/x-python",
   "name": "python",
   "nbconvert_exporter": "python",
   "pygments_lexer": "ipython3",
   "version": "3.11.3"
  }
 },
 "nbformat": 4,
 "nbformat_minor": 5
}
