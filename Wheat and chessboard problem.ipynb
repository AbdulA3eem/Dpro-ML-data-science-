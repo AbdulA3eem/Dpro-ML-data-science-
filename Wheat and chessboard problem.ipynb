{
 "cells": [
  {
   "cell_type": "code",
   "execution_count": 18,
   "id": "7a44effb",
   "metadata": {
    "collapsed": true
   },
   "outputs": [
    {
     "data": {
      "text/plain": [
       "array([ 0.,  1.,  2.,  3.,  4.,  5.,  6.,  7.,  8.,  9., 10., 11., 12.,\n",
       "       13., 14., 15., 16., 17., 18., 19., 20., 21., 22., 23., 24., 25.,\n",
       "       26., 27., 28., 29., 30., 31., 32., 33., 34., 35., 36., 37., 38.,\n",
       "       39., 40., 41., 42., 43., 44., 45., 46., 47., 48., 49., 50., 51.,\n",
       "       52., 53., 54., 55., 56., 57., 58., 59., 60., 61., 62., 63.])"
      ]
     },
     "execution_count": 18,
     "metadata": {},
     "output_type": "execute_result"
    }
   ],
   "source": [
    "import numpy as np\n",
    "\n",
    "# Creating an array to represent the number of grains on each square\n",
    "chess_squares = np.arange(64, dtype = 'double')\n",
    "\n",
    "chess_squares"
   ]
  },
  {
   "cell_type": "code",
   "execution_count": 19,
   "id": "496aecf5",
   "metadata": {
    "collapsed": true
   },
   "outputs": [
    {
     "data": {
      "text/plain": [
       "array([1.00000000e+00, 2.00000000e+00, 4.00000000e+00, 8.00000000e+00,\n",
       "       1.60000000e+01, 3.20000000e+01, 6.40000000e+01, 1.28000000e+02,\n",
       "       2.56000000e+02, 5.12000000e+02, 1.02400000e+03, 2.04800000e+03,\n",
       "       4.09600000e+03, 8.19200000e+03, 1.63840000e+04, 3.27680000e+04,\n",
       "       6.55360000e+04, 1.31072000e+05, 2.62144000e+05, 5.24288000e+05,\n",
       "       1.04857600e+06, 2.09715200e+06, 4.19430400e+06, 8.38860800e+06,\n",
       "       1.67772160e+07, 3.35544320e+07, 6.71088640e+07, 1.34217728e+08,\n",
       "       2.68435456e+08, 5.36870912e+08, 1.07374182e+09, 2.14748365e+09,\n",
       "       4.29496730e+09, 8.58993459e+09, 1.71798692e+10, 3.43597384e+10,\n",
       "       6.87194767e+10, 1.37438953e+11, 2.74877907e+11, 5.49755814e+11,\n",
       "       1.09951163e+12, 2.19902326e+12, 4.39804651e+12, 8.79609302e+12,\n",
       "       1.75921860e+13, 3.51843721e+13, 7.03687442e+13, 1.40737488e+14,\n",
       "       2.81474977e+14, 5.62949953e+14, 1.12589991e+15, 2.25179981e+15,\n",
       "       4.50359963e+15, 9.00719925e+15, 1.80143985e+16, 3.60287970e+16,\n",
       "       7.20575940e+16, 1.44115188e+17, 2.88230376e+17, 5.76460752e+17,\n",
       "       1.15292150e+18, 2.30584301e+18, 4.61168602e+18, 9.22337204e+18])"
      ]
     },
     "execution_count": 19,
     "metadata": {},
     "output_type": "execute_result"
    }
   ],
   "source": [
    "# Calculating the number of grains on each square using the formula 2^n where n is the index of the square\n",
    "grains = 2 ** chess_squares\n",
    "\n",
    "grains"
   ]
  },
  {
   "cell_type": "code",
   "execution_count": 27,
   "id": "fd63ba3c",
   "metadata": {
    "collapsed": true
   },
   "outputs": [
    {
     "name": "stdout",
     "output_type": "stream",
     "text": [
      "Number of Grains on each Square are given below:\n",
      "\n",
      "\n",
      "[1.00000000e+00 2.00000000e+00 4.00000000e+00 8.00000000e+00\n",
      " 1.60000000e+01 3.20000000e+01 6.40000000e+01 1.28000000e+02\n",
      " 2.56000000e+02 5.12000000e+02 1.02400000e+03 2.04800000e+03\n",
      " 4.09600000e+03 8.19200000e+03 1.63840000e+04 3.27680000e+04\n",
      " 6.55360000e+04 1.31072000e+05 2.62144000e+05 5.24288000e+05\n",
      " 1.04857600e+06 2.09715200e+06 4.19430400e+06 8.38860800e+06\n",
      " 1.67772160e+07 3.35544320e+07 6.71088640e+07 1.34217728e+08\n",
      " 2.68435456e+08 5.36870912e+08 1.07374182e+09 2.14748365e+09\n",
      " 4.29496730e+09 8.58993459e+09 1.71798692e+10 3.43597384e+10\n",
      " 6.87194767e+10 1.37438953e+11 2.74877907e+11 5.49755814e+11\n",
      " 1.09951163e+12 2.19902326e+12 4.39804651e+12 8.79609302e+12\n",
      " 1.75921860e+13 3.51843721e+13 7.03687442e+13 1.40737488e+14\n",
      " 2.81474977e+14 5.62949953e+14 1.12589991e+15 2.25179981e+15\n",
      " 4.50359963e+15 9.00719925e+15 1.80143985e+16 3.60287970e+16\n",
      " 7.20575940e+16 1.44115188e+17 2.88230376e+17 5.76460752e+17\n",
      " 1.15292150e+18 2.30584301e+18 4.61168602e+18 9.22337204e+18]\n"
     ]
    }
   ],
   "source": [
    "# Calculating the total number of grains on the chessboard\n",
    "total_grains = np.sum(grains)\n",
    "\n",
    "print(\"Number of Grains on each Square are given below:\")\n",
    "print(\"\\n\")\n",
    "print(grains)"
   ]
  },
  {
   "cell_type": "code",
   "execution_count": 24,
   "id": "f81cecf4",
   "metadata": {
    "collapsed": true
   },
   "outputs": [
    {
     "name": "stdout",
     "output_type": "stream",
     "text": [
      "\n",
      "Total number of Grains on the Chessboard is:\n",
      "1.8446744073709552e+19\n"
     ]
    }
   ],
   "source": [
    "print(\"\\nTotal number of Grains on the Chessboard is:\")\n",
    "print(total_grains)"
   ]
  }
 ],
 "metadata": {
  "kernelspec": {
   "display_name": "Python 3 (ipykernel)",
   "language": "python",
   "name": "python3"
  },
  "language_info": {
   "codemirror_mode": {
    "name": "ipython",
    "version": 3
   },
   "file_extension": ".py",
   "mimetype": "text/x-python",
   "name": "python",
   "nbconvert_exporter": "python",
   "pygments_lexer": "ipython3",
   "version": "3.11.7"
  }
 },
 "nbformat": 4,
 "nbformat_minor": 5
}
